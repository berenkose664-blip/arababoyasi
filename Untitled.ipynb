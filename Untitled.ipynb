{
 "cells": [
  {
   "cell_type": "code",
   "execution_count": 1,
   "id": "c64e0d7a-dd49-4642-820c-1bc819986109",
   "metadata": {},
   "outputs": [
    {
     "data": {
      "text/plain": [
       "11"
      ]
     },
     "execution_count": 1,
     "metadata": {},
     "output_type": "execute_result"
    }
   ],
   "source": [
    "5+6\n",
    "\n"
   ]
  },
  {
   "cell_type": "code",
   "execution_count": 2,
   "id": "e3e179ec-dc78-4110-948f-9e76a33ebf3d",
   "metadata": {},
   "outputs": [
    {
     "data": {
      "text/plain": [
       "8"
      ]
     },
     "execution_count": 2,
     "metadata": {},
     "output_type": "execute_result"
    }
   ],
   "source": [
    "3+5"
   ]
  },
  {
   "cell_type": "code",
   "execution_count": 3,
   "id": "ad23272e-a942-4436-9a82-91fa1d4262b2",
   "metadata": {},
   "outputs": [
    {
     "data": {
      "text/plain": [
       "110"
      ]
     },
     "execution_count": 3,
     "metadata": {},
     "output_type": "execute_result"
    }
   ],
   "source": [
    "55+55\n"
   ]
  },
  {
   "cell_type": "code",
   "execution_count": 5,
   "id": "d2051d6e-0505-4e96-8714-33ab5e0ca6f3",
   "metadata": {},
   "outputs": [
    {
     "name": "stdout",
     "output_type": "stream",
     "text": [
      "g\n"
     ]
    }
   ],
   "source": [
    "print(\"g\")\n"
   ]
  },
  {
   "cell_type": "code",
   "execution_count": 2,
   "id": "7dde32ef-59a4-44c7-a223-3fec6d71ef9c",
   "metadata": {},
   "outputs": [
    {
     "name": "stdout",
     "output_type": "stream",
     "text": [
      "ebrar 21\n"
     ]
    }
   ],
   "source": [
    "print(\"ebrar 21\")\n"
   ]
  },
  {
   "cell_type": "code",
   "execution_count": 6,
   "id": "002f9bd6-c787-4c0c-b353-4fe46567e807",
   "metadata": {},
   "outputs": [
    {
     "name": "stdout",
     "output_type": "stream",
     "text": [
      "dilara 21\n"
     ]
    }
   ],
   "source": [
    "print(\"dilara 21\")"
   ]
  },
  {
   "cell_type": "code",
   "execution_count": 7,
   "id": "17211b3f-9858-4280-8864-a3678e4ebf5a",
   "metadata": {},
   "outputs": [
    {
     "name": "stdout",
     "output_type": "stream",
     "text": [
      "beren 21\n"
     ]
    }
   ],
   "source": [
    "print(\"beren 21\")"
   ]
  },
  {
   "cell_type": "code",
   "execution_count": 1,
   "id": "6a184209-b358-4504-a775-f8e306d81dc5",
   "metadata": {},
   "outputs": [
    {
     "data": {
      "text/plain": [
       "13"
      ]
     },
     "execution_count": 1,
     "metadata": {},
     "output_type": "execute_result"
    }
   ],
   "source": [
    "10+3\n"
   ]
  },
  {
   "cell_type": "code",
   "execution_count": null,
   "id": "efeaa241-d10a-4657-b67d-34b122b3451a",
   "metadata": {},
   "outputs": [],
   "source": []
  }
 ],
 "metadata": {
  "kernelspec": {
   "display_name": "Python 3 (ipykernel)",
   "language": "python",
   "name": "python3"
  },
  "language_info": {
   "codemirror_mode": {
    "name": "ipython",
    "version": 3
   },
   "file_extension": ".py",
   "mimetype": "text/x-python",
   "name": "python",
   "nbconvert_exporter": "python",
   "pygments_lexer": "ipython3",
   "version": "3.13.5"
  }
 },
 "nbformat": 4,
 "nbformat_minor": 5
}
